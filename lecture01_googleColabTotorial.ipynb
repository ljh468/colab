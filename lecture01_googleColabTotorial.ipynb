{
  "nbformat": 4,
  "nbformat_minor": 0,
  "metadata": {
    "colab": {
      "name": "lecture01_googleColabTotorial.ipynb",
      "private_outputs": true,
      "provenance": [],
      "collapsed_sections": [],
      "authorship_tag": "ABX9TyOrslv5XlHI1r3VCUVkHjQl",
      "include_colab_link": true
    },
    "kernelspec": {
      "name": "python3",
      "display_name": "Python 3"
    },
    "language_info": {
      "name": "python"
    },
    "accelerator": "GPU"
  },
  "cells": [
    {
      "cell_type": "markdown",
      "metadata": {
        "id": "view-in-github",
        "colab_type": "text"
      },
      "source": [
        "<a href=\"https://colab.research.google.com/github/ljh468/colab/blob/main/lecture01_googleColabTotorial.ipynb\" target=\"_parent\"><img src=\"https://colab.research.google.com/assets/colab-badge.svg\" alt=\"Open In Colab\"/></a>"
      ]
    },
    {
      "cell_type": "markdown",
      "metadata": {
        "id": "_WEx8Qr9ZY6n"
      },
      "source": [
        "# **Colab을 활용한 간단한 예제 작성**"
      ]
    },
    {
      "cell_type": "markdown",
      "metadata": {
        "id": "226LUO6sLyZz"
      },
      "source": [
        "\n",
        "# **셀 타입 변경**<br>\n",
        "* 코드셀로 변경: Ctrl/Cmd + M Y <br>\n",
        "* 텍스트셀로 변경: Ctrl/Cmd + M M"
      ]
    },
    {
      "cell_type": "markdown",
      "metadata": {
        "id": "lCaqiTh8UbF0"
      },
      "source": [
        "# **셀 실행과 출력**<br>\n",
        "\n",
        "* 셀: 실행의 단위<br>\n",
        "* 실행: 재생 버튼을 클릭 또는 단축기 사용<br>\n",
        "* 실행후 실행 순서에 따라 일련변호가 부여됨.<br>\n",
        "* 단축키<br>\n",
        "■ Ctrl + Enter: 실행후 커서는 제자리<br>\n",
        "■ Shift + Enter: 실행후 커서는 다음 셀<br>\n",
        "■ Alt + Enter: 실행후 커서는 새로운 셀 삽입 및 이동<br>"
      ]
    },
    {
      "cell_type": "markdown",
      "metadata": {
        "id": "ttr6BBWeUbck"
      },
      "source": [
        "\n",
        "# **셀 삽입/삭제**\n",
        "* 현재 셀 위에 삽입: Ctrl/Cmd + M A\n",
        "* 현재 셀 아래에 삽입: Ctrl/Cmd + M B\n",
        "* 현재 셀 삭제: Ctrl/Cmd + M D 또는 쓰레기통 아이콘"
      ]
    },
    {
      "cell_type": "markdown",
      "metadata": {
        "id": "svZ4vd9yUb1n"
      },
      "source": [
        "\n",
        "# **단축키 치트키**\n",
        "* Ctrl + M H\n",
        "* PC 기반 Jupyter Notebook에서의 단축키는 Ctrl 키 없이 알파벳으로만."
      ]
    },
    {
      "cell_type": "markdown",
      "metadata": {
        "id": "Mntd3IVEUcJE"
      },
      "source": [
        "# **Google Colab 사양 확인**\n",
        "* 플랫폼"
      ]
    },
    {
      "cell_type": "code",
      "metadata": {
        "id": "3zJ8tZVvVxMK"
      },
      "source": [
        "import platform\n",
        "platform.platform()"
      ],
      "execution_count": null,
      "outputs": []
    },
    {
      "cell_type": "code",
      "metadata": {
        "id": "gtAGiLWMZHf3"
      },
      "source": [
        "!cat /etc/issue.net"
      ],
      "execution_count": null,
      "outputs": []
    },
    {
      "cell_type": "code",
      "metadata": {
        "id": "oW0GMJ6MZLt1"
      },
      "source": [
        "!cat /proc/cpuinfo"
      ],
      "execution_count": null,
      "outputs": []
    },
    {
      "cell_type": "code",
      "metadata": {
        "id": "b0-hzmEFijcK"
      },
      "source": [
        "!cat /proc/meminfo"
      ],
      "execution_count": null,
      "outputs": []
    },
    {
      "cell_type": "code",
      "metadata": {
        "id": "ZCIjELpMimlT"
      },
      "source": [
        "!df -h"
      ],
      "execution_count": null,
      "outputs": []
    },
    {
      "cell_type": "code",
      "metadata": {
        "id": "Z8X2ek9HiqIw"
      },
      "source": [
        "!python --version"
      ],
      "execution_count": null,
      "outputs": []
    },
    {
      "cell_type": "code",
      "metadata": {
        "id": "ntbROXsSiwR5"
      },
      "source": [
        "!nvidia-smi"
      ],
      "execution_count": null,
      "outputs": []
    },
    {
      "cell_type": "code",
      "metadata": {
        "id": "vRDl9IuNi0Mw"
      },
      "source": [
        "# jupyter notebook magic command '%%writefile' for editing a filter\n",
        "%%writefile test.py\n",
        "\n",
        "import matplotlib.pyplot as plt\n",
        "import numpy as np\n",
        "\n",
        "def plot():\n",
        "  X=np.random.randn (50)\n",
        "  Y = 2*X+np.random.randn(50)\n",
        "\n",
        "  plt.plot(X,Y,'ro', label='Data')\n",
        "  plt.grid()\n",
        "  plt.legend()\n",
        "  plt.show()"
      ],
      "execution_count": null,
      "outputs": []
    },
    {
      "cell_type": "code",
      "metadata": {
        "id": "vX-d1becj5s_"
      },
      "source": [
        "!cat test.py"
      ],
      "execution_count": null,
      "outputs": []
    },
    {
      "cell_type": "code",
      "metadata": {
        "id": "CVoBaUx1j9eo"
      },
      "source": [
        "# .py import\n",
        "import test\n",
        "test.plot()"
      ],
      "execution_count": null,
      "outputs": []
    },
    {
      "cell_type": "code",
      "metadata": {
        "id": "cxs4mvWCkDvI"
      },
      "source": [
        "from google.colab import files\n",
        "files.download('test.py')"
      ],
      "execution_count": null,
      "outputs": []
    },
    {
      "cell_type": "code",
      "metadata": {
        "id": "YhSJVCqgkK8a"
      },
      "source": [
        "image = files.upload()"
      ],
      "execution_count": null,
      "outputs": []
    },
    {
      "cell_type": "code",
      "metadata": {
        "id": "-0a6rLmhkrye"
      },
      "source": [
        "!ls"
      ],
      "execution_count": null,
      "outputs": []
    },
    {
      "cell_type": "code",
      "metadata": {
        "id": "CQXQ3YCVk0GW"
      },
      "source": [
        "# upload한 이미지파일 시각화\n",
        "\n",
        "import matplotlib.pyplot as plt\n",
        "import matplotlib.image as mpimg\n",
        "import numpy as np\n",
        "from PIL import Image\n",
        "\n",
        "print('type:', type(image))\n",
        "key, _ = list(image.items())[0]\n",
        "img = Image.open(key)\n",
        "plt.imshow(img)\n",
        "plt.show()"
      ],
      "execution_count": null,
      "outputs": []
    },
    {
      "cell_type": "code",
      "metadata": {
        "id": "On_f38bik2gB"
      },
      "source": [
        "from google.colab import drive\n",
        "drive.mount('/content/drive')"
      ],
      "execution_count": null,
      "outputs": []
    },
    {
      "cell_type": "code",
      "metadata": {
        "id": "nDeNfbPtk_8D"
      },
      "source": [
        "ls /content/drive"
      ],
      "execution_count": null,
      "outputs": []
    },
    {
      "cell_type": "code",
      "metadata": {
        "id": "bM3FvUfZlWyT"
      },
      "source": [
        "ls /content/drive/MyDrive/"
      ],
      "execution_count": null,
      "outputs": []
    },
    {
      "cell_type": "code",
      "metadata": {
        "id": "UvzWvgYmldXy"
      },
      "source": [
        "ls /content/drive/MyDrive/'Colab Notebooks'"
      ],
      "execution_count": null,
      "outputs": []
    },
    {
      "cell_type": "code",
      "metadata": {
        "id": "mGB-iGUrlmfr"
      },
      "source": [
        "# Mount Google Drive to VM instance.\n",
        "from google.colab import drive\n",
        "drive.mount('/content/drive')"
      ],
      "execution_count": null,
      "outputs": []
    },
    {
      "cell_type": "code",
      "metadata": {
        "id": "Y3YZxQwVKnuN"
      },
      "source": [
        "%cd  /content/drive/MyDrive\n",
        "!git clone https://github.com/sangsin/Introduction-to-Deep-Learning-with-Tensorflow-2.0-and-Keras.git\n",
        "!ls"
      ],
      "execution_count": null,
      "outputs": []
    },
    {
      "cell_type": "code",
      "metadata": {
        "id": "EFu52W4rK1Pf"
      },
      "source": [
        "import tensorflow as tf\n",
        "help(tf.square)"
      ],
      "execution_count": null,
      "outputs": []
    },
    {
      "cell_type": "code",
      "metadata": {
        "id": "eODBDnp_LAj7"
      },
      "source": [
        "max?"
      ],
      "execution_count": null,
      "outputs": []
    },
    {
      "cell_type": "code",
      "metadata": {
        "id": "am5lV3hxLEfw"
      },
      "source": [
        "li=['One', 'Two', 'Three']\n",
        "li?"
      ],
      "execution_count": null,
      "outputs": []
    },
    {
      "cell_type": "code",
      "metadata": {
        "id": "hvRexf1_LFTZ"
      },
      "source": [
        "li.count?"
      ],
      "execution_count": null,
      "outputs": []
    },
    {
      "cell_type": "code",
      "metadata": {
        "id": "gvlEXR7mLG4e"
      },
      "source": [
        "def power(b,n):\n",
        "  \"\"\"b의 n승을 반환\"\"\"\n",
        "  return pow(b,n)"
      ],
      "execution_count": null,
      "outputs": []
    },
    {
      "cell_type": "code",
      "metadata": {
        "id": "xGDNY7OJLLHg"
      },
      "source": [
        "power?"
      ],
      "execution_count": null,
      "outputs": []
    },
    {
      "cell_type": "code",
      "metadata": {
        "id": "6OCZSAxaLNsx"
      },
      "source": [
        "power??"
      ],
      "execution_count": null,
      "outputs": []
    },
    {
      "cell_type": "code",
      "metadata": {
        "id": "NAjphbf4Wh9m"
      },
      "source": [
        "li = ['One', 'Two', 'Three']\n",
        "li.append('four')\n",
        "li"
      ],
      "execution_count": null,
      "outputs": []
    },
    {
      "cell_type": "code",
      "metadata": {
        "id": "EMn4sjVQW0wE"
      },
      "source": [
        "*Error?"
      ],
      "execution_count": null,
      "outputs": []
    },
    {
      "cell_type": "code",
      "metadata": {
        "id": "-oO1hb_5W4NS"
      },
      "source": [
        "str.*index*?"
      ],
      "execution_count": null,
      "outputs": []
    },
    {
      "cell_type": "code",
      "metadata": {
        "id": "2pq29XOcXA0u"
      },
      "source": [
        "%%writefile hello.py\n",
        "print(\"Hello Colab\")"
      ],
      "execution_count": null,
      "outputs": []
    },
    {
      "cell_type": "code",
      "metadata": {
        "id": "PvtzRndlXIvj"
      },
      "source": [
        "# %run: 외부 Python 스크립트를 실행 \n",
        "%run hello.py"
      ],
      "execution_count": null,
      "outputs": []
    },
    {
      "cell_type": "code",
      "metadata": {
        "id": "8LkwJxx2XLFh"
      },
      "source": [
        "# %lsmagic: 현재 사용 가능한 Magic Command List\n",
        "%lsmagic"
      ],
      "execution_count": null,
      "outputs": []
    },
    {
      "cell_type": "code",
      "metadata": {
        "id": "gJRf57dwXPPz"
      },
      "source": [
        "%%timeit?"
      ],
      "execution_count": null,
      "outputs": []
    },
    {
      "cell_type": "code",
      "metadata": {
        "id": "NHkg4I2XXT5a"
      },
      "source": [
        "%timeit li = [n ** n for n in range(10000)]"
      ],
      "execution_count": null,
      "outputs": []
    },
    {
      "cell_type": "code",
      "metadata": {
        "id": "_5KWIJQ5XhLa"
      },
      "source": [
        "%%timeit\n",
        "li = []\n",
        "for n in range(10000):\n",
        "  li.append(n**n)"
      ],
      "execution_count": null,
      "outputs": []
    },
    {
      "cell_type": "code",
      "metadata": {
        "id": "TXrlE6yLXzYk"
      },
      "source": [
        "% cd /content/drive/  \n",
        "!pwd\n",
        "!ls"
      ],
      "execution_count": null,
      "outputs": []
    },
    {
      "cell_type": "code",
      "metadata": {
        "id": "cUORiNHWX0Ps"
      },
      "source": [
        "!cd MyDrive \n",
        "!pwd\n",
        "!ls"
      ],
      "execution_count": null,
      "outputs": []
    },
    {
      "cell_type": "code",
      "metadata": {
        "id": "rjq2APX-X4Vk"
      },
      "source": [
        "!cd MyDrive  && ls\n",
        "!pwd"
      ],
      "execution_count": null,
      "outputs": []
    },
    {
      "cell_type": "code",
      "metadata": {
        "id": "fHbMs3jZX5Yo"
      },
      "source": [
        "%cd MyDrive\n",
        "!pwd\n",
        "!ls"
      ],
      "execution_count": null,
      "outputs": []
    },
    {
      "cell_type": "code",
      "metadata": {
        "id": "y23LLOLwX7pC"
      },
      "source": [
        "%cd /content\n",
        "!mkdir tmp\n",
        "!ls"
      ],
      "execution_count": null,
      "outputs": []
    },
    {
      "cell_type": "code",
      "metadata": {
        "id": "MS_FLiovX8mD"
      },
      "source": [
        "!cat test.py"
      ],
      "execution_count": null,
      "outputs": []
    },
    {
      "cell_type": "code",
      "metadata": {
        "id": "UGKvVL7XX81B"
      },
      "source": [
        "!rm -r tmp  # -r: 디렉토리내 파일들 삭제후 디렉토리 삭제"
      ],
      "execution_count": null,
      "outputs": []
    },
    {
      "cell_type": "code",
      "metadata": {
        "id": "3exTCZ87X9iT"
      },
      "source": [
        "!ls tmp"
      ],
      "execution_count": null,
      "outputs": []
    }
  ]
}